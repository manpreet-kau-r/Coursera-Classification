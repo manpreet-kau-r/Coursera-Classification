{
 "cells": [
  {
   "cell_type": "code",
   "execution_count": 2,
   "metadata": {},
   "outputs": [],
   "source": [
    "import pandas as pd\n",
    "import numpy as np\n",
    "import json\n",
    "import matplotlib.pyplot as plt"
   ]
  },
  {
   "cell_type": "code",
   "execution_count": 11,
   "metadata": {},
   "outputs": [],
   "source": [
    "data = pd.read_csv('amazon_baby_subset.csv')\n",
    "with open('important_words.json','r') as f:\n",
    "    imp_words = json.load(f)"
   ]
  },
  {
   "cell_type": "code",
   "execution_count": 12,
   "metadata": {},
   "outputs": [
    {
     "data": {
      "text/html": [
       "<div>\n",
       "<style scoped>\n",
       "    .dataframe tbody tr th:only-of-type {\n",
       "        vertical-align: middle;\n",
       "    }\n",
       "\n",
       "    .dataframe tbody tr th {\n",
       "        vertical-align: top;\n",
       "    }\n",
       "\n",
       "    .dataframe thead th {\n",
       "        text-align: right;\n",
       "    }\n",
       "</style>\n",
       "<table border=\"1\" class=\"dataframe\">\n",
       "  <thead>\n",
       "    <tr style=\"text-align: right;\">\n",
       "      <th></th>\n",
       "      <th>name</th>\n",
       "      <th>review</th>\n",
       "      <th>rating</th>\n",
       "      <th>sentiment</th>\n",
       "    </tr>\n",
       "  </thead>\n",
       "  <tbody>\n",
       "    <tr>\n",
       "      <th>0</th>\n",
       "      <td>Stop Pacifier Sucking without tears with Thumb...</td>\n",
       "      <td>All of my kids have cried non-stop when I trie...</td>\n",
       "      <td>5</td>\n",
       "      <td>1</td>\n",
       "    </tr>\n",
       "    <tr>\n",
       "      <th>1</th>\n",
       "      <td>Nature's Lullabies Second Year Sticker Calendar</td>\n",
       "      <td>We wanted to get something to keep track of ou...</td>\n",
       "      <td>5</td>\n",
       "      <td>1</td>\n",
       "    </tr>\n",
       "    <tr>\n",
       "      <th>2</th>\n",
       "      <td>Nature's Lullabies Second Year Sticker Calendar</td>\n",
       "      <td>My daughter had her 1st baby over a year ago. ...</td>\n",
       "      <td>5</td>\n",
       "      <td>1</td>\n",
       "    </tr>\n",
       "    <tr>\n",
       "      <th>3</th>\n",
       "      <td>Lamaze Peekaboo, I Love You</td>\n",
       "      <td>One of baby's first and favorite books, and it...</td>\n",
       "      <td>4</td>\n",
       "      <td>1</td>\n",
       "    </tr>\n",
       "    <tr>\n",
       "      <th>4</th>\n",
       "      <td>SoftPlay Peek-A-Boo Where's Elmo A Children's ...</td>\n",
       "      <td>Very cute interactive book! My son loves this ...</td>\n",
       "      <td>5</td>\n",
       "      <td>1</td>\n",
       "    </tr>\n",
       "  </tbody>\n",
       "</table>\n",
       "</div>"
      ],
      "text/plain": [
       "                                                name  \\\n",
       "0  Stop Pacifier Sucking without tears with Thumb...   \n",
       "1    Nature's Lullabies Second Year Sticker Calendar   \n",
       "2    Nature's Lullabies Second Year Sticker Calendar   \n",
       "3                        Lamaze Peekaboo, I Love You   \n",
       "4  SoftPlay Peek-A-Boo Where's Elmo A Children's ...   \n",
       "\n",
       "                                              review  rating  sentiment  \n",
       "0  All of my kids have cried non-stop when I trie...       5          1  \n",
       "1  We wanted to get something to keep track of ou...       5          1  \n",
       "2  My daughter had her 1st baby over a year ago. ...       5          1  \n",
       "3  One of baby's first and favorite books, and it...       4          1  \n",
       "4  Very cute interactive book! My son loves this ...       5          1  "
      ]
     },
     "execution_count": 12,
     "metadata": {},
     "output_type": "execute_result"
    }
   ],
   "source": [
    "data.head()"
   ]
  },
  {
   "cell_type": "markdown",
   "metadata": {},
   "source": [
    "### remove punctuation"
   ]
  },
  {
   "cell_type": "code",
   "execution_count": 26,
   "metadata": {},
   "outputs": [],
   "source": [
    "def remove_punctuation(text):\n",
    "    text = str(text)\n",
    "    import string\n",
    "    return text.translate( text.maketrans('','',string.punctuation) ) "
   ]
  },
  {
   "cell_type": "code",
   "execution_count": 27,
   "metadata": {},
   "outputs": [],
   "source": [
    "data['review_clean']=data['review'].apply(remove_punctuation)"
   ]
  },
  {
   "cell_type": "code",
   "execution_count": 28,
   "metadata": {},
   "outputs": [
    {
     "data": {
      "text/html": [
       "<div>\n",
       "<style scoped>\n",
       "    .dataframe tbody tr th:only-of-type {\n",
       "        vertical-align: middle;\n",
       "    }\n",
       "\n",
       "    .dataframe tbody tr th {\n",
       "        vertical-align: top;\n",
       "    }\n",
       "\n",
       "    .dataframe thead th {\n",
       "        text-align: right;\n",
       "    }\n",
       "</style>\n",
       "<table border=\"1\" class=\"dataframe\">\n",
       "  <thead>\n",
       "    <tr style=\"text-align: right;\">\n",
       "      <th></th>\n",
       "      <th>name</th>\n",
       "      <th>review</th>\n",
       "      <th>rating</th>\n",
       "      <th>sentiment</th>\n",
       "      <th>review_clean</th>\n",
       "    </tr>\n",
       "  </thead>\n",
       "  <tbody>\n",
       "    <tr>\n",
       "      <th>0</th>\n",
       "      <td>Stop Pacifier Sucking without tears with Thumb...</td>\n",
       "      <td>All of my kids have cried non-stop when I trie...</td>\n",
       "      <td>5</td>\n",
       "      <td>1</td>\n",
       "      <td>All of my kids have cried nonstop when I tried...</td>\n",
       "    </tr>\n",
       "    <tr>\n",
       "      <th>1</th>\n",
       "      <td>Nature's Lullabies Second Year Sticker Calendar</td>\n",
       "      <td>We wanted to get something to keep track of ou...</td>\n",
       "      <td>5</td>\n",
       "      <td>1</td>\n",
       "      <td>We wanted to get something to keep track of ou...</td>\n",
       "    </tr>\n",
       "    <tr>\n",
       "      <th>2</th>\n",
       "      <td>Nature's Lullabies Second Year Sticker Calendar</td>\n",
       "      <td>My daughter had her 1st baby over a year ago. ...</td>\n",
       "      <td>5</td>\n",
       "      <td>1</td>\n",
       "      <td>My daughter had her 1st baby over a year ago S...</td>\n",
       "    </tr>\n",
       "    <tr>\n",
       "      <th>3</th>\n",
       "      <td>Lamaze Peekaboo, I Love You</td>\n",
       "      <td>One of baby's first and favorite books, and it...</td>\n",
       "      <td>4</td>\n",
       "      <td>1</td>\n",
       "      <td>One of babys first and favorite books and it i...</td>\n",
       "    </tr>\n",
       "    <tr>\n",
       "      <th>4</th>\n",
       "      <td>SoftPlay Peek-A-Boo Where's Elmo A Children's ...</td>\n",
       "      <td>Very cute interactive book! My son loves this ...</td>\n",
       "      <td>5</td>\n",
       "      <td>1</td>\n",
       "      <td>Very cute interactive book My son loves this b...</td>\n",
       "    </tr>\n",
       "  </tbody>\n",
       "</table>\n",
       "</div>"
      ],
      "text/plain": [
       "                                                name  \\\n",
       "0  Stop Pacifier Sucking without tears with Thumb...   \n",
       "1    Nature's Lullabies Second Year Sticker Calendar   \n",
       "2    Nature's Lullabies Second Year Sticker Calendar   \n",
       "3                        Lamaze Peekaboo, I Love You   \n",
       "4  SoftPlay Peek-A-Boo Where's Elmo A Children's ...   \n",
       "\n",
       "                                              review  rating  sentiment  \\\n",
       "0  All of my kids have cried non-stop when I trie...       5          1   \n",
       "1  We wanted to get something to keep track of ou...       5          1   \n",
       "2  My daughter had her 1st baby over a year ago. ...       5          1   \n",
       "3  One of baby's first and favorite books, and it...       4          1   \n",
       "4  Very cute interactive book! My son loves this ...       5          1   \n",
       "\n",
       "                                        review_clean  \n",
       "0  All of my kids have cried nonstop when I tried...  \n",
       "1  We wanted to get something to keep track of ou...  \n",
       "2  My daughter had her 1st baby over a year ago S...  \n",
       "3  One of babys first and favorite books and it i...  \n",
       "4  Very cute interactive book My son loves this b...  "
      ]
     },
     "execution_count": 28,
     "metadata": {},
     "output_type": "execute_result"
    }
   ],
   "source": [
    "data.head()"
   ]
  },
  {
   "cell_type": "markdown",
   "metadata": {},
   "source": [
    "### Word count using imp words"
   ]
  },
  {
   "cell_type": "code",
   "execution_count": 29,
   "metadata": {},
   "outputs": [],
   "source": [
    "from sklearn.feature_extraction.text import CountVectorizer"
   ]
  },
  {
   "cell_type": "code",
   "execution_count": 30,
   "metadata": {},
   "outputs": [
    {
     "data": {
      "text/plain": [
       "name             90\n",
       "review          241\n",
       "rating            0\n",
       "sentiment         0\n",
       "review_clean      0\n",
       "dtype: int64"
      ]
     },
     "execution_count": 30,
     "metadata": {},
     "output_type": "execute_result"
    }
   ],
   "source": [
    "data.isna().astype(int).sum()"
   ]
  },
  {
   "cell_type": "code",
   "execution_count": 31,
   "metadata": {},
   "outputs": [],
   "source": [
    "data.fillna({'review':''},inplace=True)"
   ]
  },
  {
   "cell_type": "code",
   "execution_count": 32,
   "metadata": {},
   "outputs": [
    {
     "data": {
      "text/plain": [
       "name            90\n",
       "review           0\n",
       "rating           0\n",
       "sentiment        0\n",
       "review_clean     0\n",
       "dtype: int64"
      ]
     },
     "execution_count": 32,
     "metadata": {},
     "output_type": "execute_result"
    }
   ],
   "source": [
    "data.isna().astype(int).sum()"
   ]
  },
  {
   "cell_type": "code",
   "execution_count": 33,
   "metadata": {},
   "outputs": [
    {
     "data": {
      "text/plain": [
       "(53072, 5)"
      ]
     },
     "execution_count": 33,
     "metadata": {},
     "output_type": "execute_result"
    }
   ],
   "source": [
    "data.shape"
   ]
  },
  {
   "cell_type": "code",
   "execution_count": 37,
   "metadata": {},
   "outputs": [],
   "source": [
    "for word in imp_words:\n",
    "    data[word]=data['review_clean'].apply(lambda s: s.split().count(word) )"
   ]
  },
  {
   "cell_type": "code",
   "execution_count": 38,
   "metadata": {},
   "outputs": [],
   "source": [
    "data['contain_perfect']=(data['perfect']>=1).astype(int)"
   ]
  },
  {
   "cell_type": "code",
   "execution_count": 39,
   "metadata": {},
   "outputs": [
    {
     "data": {
      "text/html": [
       "<div>\n",
       "<style scoped>\n",
       "    .dataframe tbody tr th:only-of-type {\n",
       "        vertical-align: middle;\n",
       "    }\n",
       "\n",
       "    .dataframe tbody tr th {\n",
       "        vertical-align: top;\n",
       "    }\n",
       "\n",
       "    .dataframe thead th {\n",
       "        text-align: right;\n",
       "    }\n",
       "</style>\n",
       "<table border=\"1\" class=\"dataframe\">\n",
       "  <thead>\n",
       "    <tr style=\"text-align: right;\">\n",
       "      <th></th>\n",
       "      <th>name</th>\n",
       "      <th>review</th>\n",
       "      <th>rating</th>\n",
       "      <th>sentiment</th>\n",
       "      <th>review_clean</th>\n",
       "      <th>word</th>\n",
       "      <th>baby</th>\n",
       "      <th>one</th>\n",
       "      <th>great</th>\n",
       "      <th>love</th>\n",
       "      <th>...</th>\n",
       "      <th>picture</th>\n",
       "      <th>completely</th>\n",
       "      <th>wish</th>\n",
       "      <th>buying</th>\n",
       "      <th>babies</th>\n",
       "      <th>won</th>\n",
       "      <th>tub</th>\n",
       "      <th>almost</th>\n",
       "      <th>either</th>\n",
       "      <th>contain_perfect</th>\n",
       "    </tr>\n",
       "  </thead>\n",
       "  <tbody>\n",
       "    <tr>\n",
       "      <th>0</th>\n",
       "      <td>Stop Pacifier Sucking without tears with Thumb...</td>\n",
       "      <td>All of my kids have cried non-stop when I trie...</td>\n",
       "      <td>5</td>\n",
       "      <td>1</td>\n",
       "      <td>All of my kids have cried nonstop when I tried...</td>\n",
       "      <td>0</td>\n",
       "      <td>0</td>\n",
       "      <td>0</td>\n",
       "      <td>1</td>\n",
       "      <td>0</td>\n",
       "      <td>...</td>\n",
       "      <td>0</td>\n",
       "      <td>0</td>\n",
       "      <td>0</td>\n",
       "      <td>0</td>\n",
       "      <td>0</td>\n",
       "      <td>0</td>\n",
       "      <td>0</td>\n",
       "      <td>0</td>\n",
       "      <td>0</td>\n",
       "      <td>0</td>\n",
       "    </tr>\n",
       "    <tr>\n",
       "      <th>1</th>\n",
       "      <td>Nature's Lullabies Second Year Sticker Calendar</td>\n",
       "      <td>We wanted to get something to keep track of ou...</td>\n",
       "      <td>5</td>\n",
       "      <td>1</td>\n",
       "      <td>We wanted to get something to keep track of ou...</td>\n",
       "      <td>0</td>\n",
       "      <td>0</td>\n",
       "      <td>0</td>\n",
       "      <td>0</td>\n",
       "      <td>0</td>\n",
       "      <td>...</td>\n",
       "      <td>0</td>\n",
       "      <td>0</td>\n",
       "      <td>0</td>\n",
       "      <td>0</td>\n",
       "      <td>0</td>\n",
       "      <td>0</td>\n",
       "      <td>0</td>\n",
       "      <td>0</td>\n",
       "      <td>0</td>\n",
       "      <td>0</td>\n",
       "    </tr>\n",
       "    <tr>\n",
       "      <th>2</th>\n",
       "      <td>Nature's Lullabies Second Year Sticker Calendar</td>\n",
       "      <td>My daughter had her 1st baby over a year ago. ...</td>\n",
       "      <td>5</td>\n",
       "      <td>1</td>\n",
       "      <td>My daughter had her 1st baby over a year ago S...</td>\n",
       "      <td>0</td>\n",
       "      <td>1</td>\n",
       "      <td>0</td>\n",
       "      <td>0</td>\n",
       "      <td>0</td>\n",
       "      <td>...</td>\n",
       "      <td>0</td>\n",
       "      <td>0</td>\n",
       "      <td>0</td>\n",
       "      <td>0</td>\n",
       "      <td>0</td>\n",
       "      <td>0</td>\n",
       "      <td>0</td>\n",
       "      <td>0</td>\n",
       "      <td>0</td>\n",
       "      <td>0</td>\n",
       "    </tr>\n",
       "    <tr>\n",
       "      <th>3</th>\n",
       "      <td>Lamaze Peekaboo, I Love You</td>\n",
       "      <td>One of baby's first and favorite books, and it...</td>\n",
       "      <td>4</td>\n",
       "      <td>1</td>\n",
       "      <td>One of babys first and favorite books and it i...</td>\n",
       "      <td>0</td>\n",
       "      <td>0</td>\n",
       "      <td>0</td>\n",
       "      <td>0</td>\n",
       "      <td>0</td>\n",
       "      <td>...</td>\n",
       "      <td>0</td>\n",
       "      <td>0</td>\n",
       "      <td>0</td>\n",
       "      <td>0</td>\n",
       "      <td>0</td>\n",
       "      <td>0</td>\n",
       "      <td>0</td>\n",
       "      <td>0</td>\n",
       "      <td>0</td>\n",
       "      <td>1</td>\n",
       "    </tr>\n",
       "    <tr>\n",
       "      <th>4</th>\n",
       "      <td>SoftPlay Peek-A-Boo Where's Elmo A Children's ...</td>\n",
       "      <td>Very cute interactive book! My son loves this ...</td>\n",
       "      <td>5</td>\n",
       "      <td>1</td>\n",
       "      <td>Very cute interactive book My son loves this b...</td>\n",
       "      <td>0</td>\n",
       "      <td>0</td>\n",
       "      <td>0</td>\n",
       "      <td>1</td>\n",
       "      <td>0</td>\n",
       "      <td>...</td>\n",
       "      <td>0</td>\n",
       "      <td>0</td>\n",
       "      <td>0</td>\n",
       "      <td>0</td>\n",
       "      <td>1</td>\n",
       "      <td>0</td>\n",
       "      <td>0</td>\n",
       "      <td>0</td>\n",
       "      <td>0</td>\n",
       "      <td>0</td>\n",
       "    </tr>\n",
       "  </tbody>\n",
       "</table>\n",
       "<p>5 rows × 200 columns</p>\n",
       "</div>"
      ],
      "text/plain": [
       "                                                name  \\\n",
       "0  Stop Pacifier Sucking without tears with Thumb...   \n",
       "1    Nature's Lullabies Second Year Sticker Calendar   \n",
       "2    Nature's Lullabies Second Year Sticker Calendar   \n",
       "3                        Lamaze Peekaboo, I Love You   \n",
       "4  SoftPlay Peek-A-Boo Where's Elmo A Children's ...   \n",
       "\n",
       "                                              review  rating  sentiment  \\\n",
       "0  All of my kids have cried non-stop when I trie...       5          1   \n",
       "1  We wanted to get something to keep track of ou...       5          1   \n",
       "2  My daughter had her 1st baby over a year ago. ...       5          1   \n",
       "3  One of baby's first and favorite books, and it...       4          1   \n",
       "4  Very cute interactive book! My son loves this ...       5          1   \n",
       "\n",
       "                                        review_clean  word  baby  one  great  \\\n",
       "0  All of my kids have cried nonstop when I tried...     0     0    0      1   \n",
       "1  We wanted to get something to keep track of ou...     0     0    0      0   \n",
       "2  My daughter had her 1st baby over a year ago S...     0     1    0      0   \n",
       "3  One of babys first and favorite books and it i...     0     0    0      0   \n",
       "4  Very cute interactive book My son loves this b...     0     0    0      1   \n",
       "\n",
       "   love  ...  picture  completely  wish  buying  babies  won  tub  almost  \\\n",
       "0     0  ...        0           0     0       0       0    0    0       0   \n",
       "1     0  ...        0           0     0       0       0    0    0       0   \n",
       "2     0  ...        0           0     0       0       0    0    0       0   \n",
       "3     0  ...        0           0     0       0       0    0    0       0   \n",
       "4     0  ...        0           0     0       0       1    0    0       0   \n",
       "\n",
       "   either  contain_perfect  \n",
       "0       0                0  \n",
       "1       0                0  \n",
       "2       0                0  \n",
       "3       0                1  \n",
       "4       0                0  \n",
       "\n",
       "[5 rows x 200 columns]"
      ]
     },
     "execution_count": 39,
     "metadata": {},
     "output_type": "execute_result"
    }
   ],
   "source": [
    "data.head()"
   ]
  },
  {
   "cell_type": "code",
   "execution_count": 41,
   "metadata": {},
   "outputs": [
    {
     "name": "stdout",
     "output_type": "stream",
     "text": [
      "2955\n"
     ]
    }
   ],
   "source": [
    "ctr = data['contain_perfect'].sum()\n",
    "print(ctr)"
   ]
  },
  {
   "cell_type": "markdown",
   "metadata": {},
   "source": [
    "## prepare feat matrix"
   ]
  },
  {
   "cell_type": "code",
   "execution_count": 42,
   "metadata": {},
   "outputs": [],
   "source": [
    "def get_numpy_data(df, feat, label):\n",
    "    df['constant'] = 1\n",
    "    feat = ['constant'] + feat\n",
    "    \n",
    "    feat_mat = df[feat]\n",
    "    feat_mat = feat_mat.as_matrix()\n",
    "    \n",
    "    label_arr = df[label]\n",
    "    label_arr = label_arr.as_matrix()\n",
    "    \n",
    "    return feat_mat,label_arr"
   ]
  },
  {
   "cell_type": "code",
   "execution_count": 50,
   "metadata": {},
   "outputs": [
    {
     "name": "stderr",
     "output_type": "stream",
     "text": [
      "C:\\ProgramData\\Anaconda3\\lib\\site-packages\\ipykernel_launcher.py:6: FutureWarning: Method .as_matrix will be removed in a future version. Use .values instead.\n",
      "  \n",
      "C:\\ProgramData\\Anaconda3\\lib\\site-packages\\ipykernel_launcher.py:9: FutureWarning: Method .as_matrix will be removed in a future version. Use .values instead.\n",
      "  if __name__ == '__main__':\n"
     ]
    }
   ],
   "source": [
    "feat = imp_words\n",
    "label = ['sentiment']\n",
    "feat_mat,label_arr = get_numpy_data(data,feat,label)"
   ]
  },
  {
   "cell_type": "code",
   "execution_count": 51,
   "metadata": {},
   "outputs": [
    {
     "name": "stdout",
     "output_type": "stream",
     "text": [
      "(53072, 194)\n",
      "(53072, 1)\n",
      "(53072,)\n"
     ]
    }
   ],
   "source": [
    "print(feat_mat.shape)\n",
    "print(label_arr.shape)\n",
    "label_arr = label_arr.reshape(-1,)\n",
    "print(label_arr.shape)"
   ]
  },
  {
   "cell_type": "markdown",
   "metadata": {},
   "source": [
    "## gradient ascent"
   ]
  },
  {
   "cell_type": "code",
   "execution_count": 52,
   "metadata": {},
   "outputs": [],
   "source": [
    "## produces probablistic estimate for P(y_i = +1 | x_i, w).\n",
    "\n",
    "def predict_probability(feat_mat, wts):\n",
    "    score =np.dot(feat_mat,wts)\n",
    "    prob = 1/(1+np.exp(-score))\n",
    "    \n",
    "    return prob"
   ]
  },
  {
   "cell_type": "code",
   "execution_count": 53,
   "metadata": {},
   "outputs": [],
   "source": [
    "def feature_derivative(error, feat):     \n",
    "    derivative = np.dot(error,feat)\n",
    "    return derivative"
   ]
  },
  {
   "cell_type": "code",
   "execution_count": 69,
   "metadata": {},
   "outputs": [],
   "source": [
    "# ℓ(w) = ∑ ( ( I[yi=+1] − 1 ) wh(x) − ln(1+exp(−wh(x)) ) )\n",
    "def compute_log_likelihood(feat_mat, sent, wts):\n",
    "    indicator = (sent == +1)\n",
    "    scores = np.dot(feat_mat, wts)\n",
    "    lp = np.sum((indicator-1)*scores - np.log(1. + np.exp(-scores)))\n",
    "    return lp"
   ]
  },
  {
   "cell_type": "code",
   "execution_count": 70,
   "metadata": {},
   "outputs": [],
   "source": [
    "from math import sqrt\n",
    "def logistic_regression(feat_mat, sent, init_wts, step, max_iter):\n",
    "    \n",
    "    wts = np.array(init_wts) \n",
    "    \n",
    "    for itr in range(max_iter):\n",
    "        \n",
    "        prob = predict_probability(feat_mat,wts)\n",
    "\n",
    "        indicator = (sent==+1)\n",
    "\n",
    "        errors = indicator - prob\n",
    "\n",
    "        for j in range(len(wts)): \n",
    "            \n",
    "            derivative = feature_derivative(errors,feat_mat[:,j])\n",
    "\n",
    "            wts[j] = wts[j] + step*derivative\n",
    "            \n",
    "        if itr <= 15 or (itr <= 100 and itr % 10 == 0) or (itr <= 1000 and itr % 100 == 0) or (itr <= 10000 and itr % 1000 == 0) or itr % 10000 == 0:\n",
    "            lp = compute_log_likelihood(feat_mat, sent, wts)\n",
    "            print('iteration %*d: log likelihood of observed labels = %.8f' % (int(np.ceil(np.log10(max_iter))), itr, lp) )\n",
    "    return wts"
   ]
  },
  {
   "cell_type": "code",
   "execution_count": 71,
   "metadata": {},
   "outputs": [],
   "source": [
    "feat_mat = feat_mat\n",
    "sent = label_arr\n",
    "init_wts = np.zeros((194,))\n",
    "step = 1e-7\n",
    "max_iter = 301"
   ]
  },
  {
   "cell_type": "code",
   "execution_count": 72,
   "metadata": {},
   "outputs": [
    {
     "name": "stdout",
     "output_type": "stream",
     "text": [
      "iteration   0: log likelihood of observed labels = -36780.91768478\n",
      "iteration   1: log likelihood of observed labels = -36775.13434712\n",
      "iteration   2: log likelihood of observed labels = -36769.35713564\n",
      "iteration   3: log likelihood of observed labels = -36763.58603240\n",
      "iteration   4: log likelihood of observed labels = -36757.82101962\n",
      "iteration   5: log likelihood of observed labels = -36752.06207964\n",
      "iteration   6: log likelihood of observed labels = -36746.30919497\n",
      "iteration   7: log likelihood of observed labels = -36740.56234821\n",
      "iteration   8: log likelihood of observed labels = -36734.82152213\n",
      "iteration   9: log likelihood of observed labels = -36729.08669961\n",
      "iteration  10: log likelihood of observed labels = -36723.35786366\n",
      "iteration  11: log likelihood of observed labels = -36717.63499744\n",
      "iteration  12: log likelihood of observed labels = -36711.91808422\n",
      "iteration  13: log likelihood of observed labels = -36706.20710739\n",
      "iteration  14: log likelihood of observed labels = -36700.50205049\n",
      "iteration  15: log likelihood of observed labels = -36694.80289716\n",
      "iteration  20: log likelihood of observed labels = -36666.39512033\n",
      "iteration  30: log likelihood of observed labels = -36610.01327118\n",
      "iteration  40: log likelihood of observed labels = -36554.19728365\n",
      "iteration  50: log likelihood of observed labels = -36498.93316099\n",
      "iteration  60: log likelihood of observed labels = -36444.20783914\n",
      "iteration  70: log likelihood of observed labels = -36390.00909449\n",
      "iteration  80: log likelihood of observed labels = -36336.32546144\n",
      "iteration  90: log likelihood of observed labels = -36283.14615871\n",
      "iteration 100: log likelihood of observed labels = -36230.46102347\n",
      "iteration 200: log likelihood of observed labels = -35728.89418769\n",
      "iteration 300: log likelihood of observed labels = -35268.51212683\n"
     ]
    }
   ],
   "source": [
    "wts = logistic_regression(feat_mat,sent,init_wts,step,max_iter)"
   ]
  },
  {
   "cell_type": "markdown",
   "metadata": {},
   "source": [
    "### predicting sentiments"
   ]
  },
  {
   "cell_type": "code",
   "execution_count": 100,
   "metadata": {},
   "outputs": [],
   "source": [
    "score = np.dot( feat_mat,wts )\n",
    "pred=[]\n",
    "ctr=0\n",
    "for i in range(len(score)):\n",
    "    if(score[i]>0):\n",
    "        pred.append(+1)\n",
    "        ctr+=1\n",
    "    else:\n",
    "        pred.append(-1)"
   ]
  },
  {
   "cell_type": "code",
   "execution_count": 101,
   "metadata": {},
   "outputs": [
    {
     "data": {
      "text/plain": [
       "25126"
      ]
     },
     "execution_count": 101,
     "metadata": {},
     "output_type": "execute_result"
    }
   ],
   "source": [
    "# no. of positive prediction\n",
    "ctr"
   ]
  },
  {
   "cell_type": "markdown",
   "metadata": {},
   "source": [
    "## Accuracy"
   ]
  },
  {
   "cell_type": "code",
   "execution_count": 103,
   "metadata": {},
   "outputs": [
    {
     "data": {
      "text/plain": [
       "39903"
      ]
     },
     "execution_count": 103,
     "metadata": {},
     "output_type": "execute_result"
    }
   ],
   "source": [
    "ctr=0\n",
    "for i in range(len(pred)):\n",
    "    if(pred[i]==label_arr[i]):\n",
    "        ctr+=1\n",
    "ctr"
   ]
  },
  {
   "cell_type": "code",
   "execution_count": 105,
   "metadata": {},
   "outputs": [
    {
     "data": {
      "text/plain": [
       "0.7518653904130238"
      ]
     },
     "execution_count": 105,
     "metadata": {},
     "output_type": "execute_result"
    }
   ],
   "source": [
    "accuracy = ctr/len(pred)\n",
    "accuracy"
   ]
  },
  {
   "cell_type": "markdown",
   "metadata": {},
   "source": [
    "### words contribution to sentiments"
   ]
  },
  {
   "cell_type": "code",
   "execution_count": 111,
   "metadata": {},
   "outputs": [],
   "source": [
    "coef = wts[1:]\n",
    "word_coef = [(word, coeff) for word, coeff in zip(imp_words, coef)]\n",
    "word_coef = sorted(word_coef, key=lambda x:x[1], reverse=True)"
   ]
  },
  {
   "cell_type": "code",
   "execution_count": 112,
   "metadata": {},
   "outputs": [
    {
     "data": {
      "text/plain": [
       "[('great', 0.0665460841704577),\n",
       " ('love', 0.06589076292212326),\n",
       " ('easy', 0.06479458680257838),\n",
       " ('little', 0.045435626308421365),\n",
       " ('loves', 0.04497640139490604),\n",
       " ('well', 0.030135001092107077),\n",
       " ('perfect', 0.029739937104968462),\n",
       " ('old', 0.020077541034775378),\n",
       " ('nice', 0.018408707995268992),\n",
       " ('daughter', 0.017703199905701694),\n",
       " ('soft', 0.01757027224560289),\n",
       " ('fits', 0.01688247107140872),\n",
       " ('happy', 0.01680529588976808),\n",
       " ('baby', 0.015565696580423507),\n",
       " ('recommend', 0.015408450108008665),\n",
       " ('also', 0.015216196422918844),\n",
       " ('best', 0.014991791565630264),\n",
       " ('comfortable', 0.0132539900815849),\n",
       " ('car', 0.012685935745813375),\n",
       " ('clean', 0.012018174433365525),\n",
       " ('son', 0.011944817713693955),\n",
       " ('bit', 0.011708248093123262),\n",
       " ('works', 0.011703160621987424),\n",
       " ('size', 0.010715966516270301),\n",
       " ('stroller', 0.009909164635972736),\n",
       " ('room', 0.009783241021568061),\n",
       " ('price', 0.009572733543590181),\n",
       " ('play', 0.00917842898398431),\n",
       " ('easily', 0.009032818138954407),\n",
       " ('kids', 0.008582843004346528),\n",
       " ('still', 0.008264666945374463),\n",
       " ('lot', 0.007999389349248327),\n",
       " ('around', 0.007508918097314341),\n",
       " ('need', 0.00717190727002709),\n",
       " ('take', 0.0067101233146641725),\n",
       " ('keep', 0.006437668081870187),\n",
       " ('crib', 0.006002799788638706),\n",
       " ('without', 0.005923536113220277),\n",
       " ('year', 0.005733200028487892),\n",
       " ('set', 0.005674789908056569),\n",
       " ('cute', 0.00553751236405903),\n",
       " ('use', 0.005017438816565412),\n",
       " ('big', 0.004606618761970606),\n",
       " ('diaper', 0.004279382890354769),\n",
       " ('wish', 0.00402037650809975),\n",
       " ('seat', 0.00398353363941361),\n",
       " ('though', 0.0033448995950862924),\n",
       " ('every', 0.003081478639854043),\n",
       " ('enough', 0.0030678550129901094),\n",
       " ('able', 0.0029803067506612626),\n",
       " ('bag', 0.0028617875161052087),\n",
       " ('babies', 0.00285818985134274),\n",
       " ('seems', 0.002815332188646534),\n",
       " ('night', 0.0028082590666831486),\n",
       " ('good', 0.002768203906397681),\n",
       " ('many', 0.002646610638512129),\n",
       " ('makes', 0.0023134923740490217),\n",
       " ('pretty', 0.0022363904560238454),\n",
       " ('long', 0.0021872401621619436),\n",
       " ('think', 0.0017456314732199937),\n",
       " ('toy', 0.0017230705102314389),\n",
       " ('since', 0.0015547861236921195),\n",
       " ('looking', 0.0015347116392846498),\n",
       " ('us', 0.0015136828514065383),\n",
       " ('purchase', 0.0012225783235106362),\n",
       " ('put', 0.000899239081415468),\n",
       " ('cover', 0.0008292511599959564),\n",
       " ('used', 0.0006101288089752651),\n",
       " ('found', 0.00041209171300655653),\n",
       " ('really', 0.0002725920624677609),\n",
       " ('won', 0.00011988500346780872),\n",
       " ('go', 9.91666827481431e-05),\n",
       " ('looks', 1.366992855023098e-05),\n",
       " ('high', -0.00018648923566776294),\n",
       " ('day', -0.0001885722805001113),\n",
       " ('bottles', -0.0003356660003498164),\n",
       " ('chair', -0.0005159604846262285),\n",
       " ('using', -0.0006573503620923425),\n",
       " ('side', -0.0008613904437686893),\n",
       " ('worth', -0.0009762196756223372),\n",
       " ('almost', -0.0011449351626316186),\n",
       " ('hold', -0.0012476158571719626),\n",
       " ('months', -0.0013621951573487417),\n",
       " ('look', -0.0016457514473845493),\n",
       " ('sure', -0.0016689531424132907),\n",
       " ('find', -0.001941995510954018),\n",
       " ('amazon', -0.001973209371896165),\n",
       " ('month', -0.002203176605623071),\n",
       " ('getting', -0.002220344023969568),\n",
       " ('come', -0.002478056986088657),\n",
       " ('second', -0.003018666010667183),\n",
       " ('head', -0.0030257887493927997),\n",
       " ('small', -0.0030534547593308713),\n",
       " ('place', -0.0033188773175081994),\n",
       " ('together', -0.0034133092891886524),\n",
       " ('want', -0.0034808852314084323),\n",
       " ('like', -0.003504884133335206),\n",
       " ('give', -0.0035098451575682472),\n",
       " ('say', -0.0037369438587485197),\n",
       " ('wanted', -0.0038141640936843104),\n",
       " ('know', -0.004074970100351704),\n",
       " ('took', -0.00426644386401471),\n",
       " ('much', -0.00439700067450943),\n",
       " ('see', -0.004659737406888565),\n",
       " ('purchased', -0.0047899094286734025),\n",
       " ('fit', -0.004795795278093019),\n",
       " ('gate', -0.005012917306197128),\n",
       " ('bottle', -0.00504082163624915),\n",
       " ('different', -0.005041275079058815),\n",
       " ('came', -0.00510115608429506),\n",
       " ('however', -0.005102879784877111),\n",
       " ('make', -0.0052058842106071585),\n",
       " ('new', -0.005287862195972152),\n",
       " ('buying', -0.0054430034643825976),\n",
       " ('last', -0.005470161541392435),\n",
       " ('actually', -0.005605733475251416),\n",
       " ('less', -0.005654987222257695),\n",
       " ('child', -0.006087140302347554),\n",
       " ('started', -0.006262831503162304),\n",
       " ('instead', -0.006300126718179463),\n",
       " ('water', -0.006300542962225544),\n",
       " ('maybe', -0.0064009893446270215),\n",
       " ('problem', -0.006409589155003782),\n",
       " ('right', -0.006413688585050476),\n",
       " ('tub', -0.006475876873018089),\n",
       " ('said', -0.006762897175112026),\n",
       " ('went', -0.006870502394402382),\n",
       " ('quality', -0.006910108112146037),\n",
       " ('pump', -0.006952869149061942),\n",
       " ('top', -0.00700791911646568),\n",
       " ('part', -0.007041719908427805),\n",
       " ('ordered', -0.0070757309816473464),\n",
       " ('either', -0.00709205934413514),\n",
       " ('bottom', -0.007220988012088569),\n",
       " ('anything', -0.007224199425910094),\n",
       " ('made', -0.007353459369094525),\n",
       " ('weeks', -0.007372630597764411),\n",
       " ('design', -0.00773228781737099),\n",
       " ('times', -0.007764187808314246),\n",
       " ('picture', -0.008101502952676016),\n",
       " ('away', -0.008317829807696091),\n",
       " ('one', -0.008502046745757372),\n",
       " ('milk', -0.008935728615993477),\n",
       " ('stay', -0.009066533373590218),\n",
       " ('open', -0.009120491910748275),\n",
       " ('cup', -0.009259144043189976),\n",
       " ('worked', -0.009315208191956718),\n",
       " ('trying', -0.009874247980135878),\n",
       " ('completely', -0.010006213059178752),\n",
       " ('got', -0.010147655511657534),\n",
       " ('difficult', -0.010219204790778673),\n",
       " ('piece', -0.010282634317735408),\n",
       " ('two', -0.010576801537792878),\n",
       " ('box', -0.010669132724912933),\n",
       " ('going', -0.010770935491004765),\n",
       " ('try', -0.010918793208792996),\n",
       " ('another', -0.010950912169649826),\n",
       " ('unit', -0.0115230475554972),\n",
       " ('working', -0.011895059489782873),\n",
       " ('idea', -0.012101030310887904),\n",
       " ('bought', -0.012170641997242547),\n",
       " ('company', -0.012506394670958822),\n",
       " ('received', -0.01260518995366231),\n",
       " ('bad', -0.012754571329579798),\n",
       " ('something', -0.012808838024750812),\n",
       " ('never', -0.012969046546319292),\n",
       " ('first', -0.013213475301677043),\n",
       " ('hard', -0.013756676731261401),\n",
       " ('thing', -0.013868727265297583),\n",
       " ('cheap', -0.014709833465080665),\n",
       " ('reviews', -0.014866319449976982),\n",
       " ('plastic', -0.01497704490358794),\n",
       " ('better', -0.01504065897704339),\n",
       " ('broke', -0.01553769895565389),\n",
       " ('returned', -0.016001798500102516),\n",
       " ('item', -0.01713786701085479),\n",
       " ('buy', -0.01773754399721805),\n",
       " ('time', -0.018246193486087033),\n",
       " ('way', -0.018359460662945686),\n",
       " ('tried', -0.018702371424325834),\n",
       " ('could', -0.01984625666077721),\n",
       " ('thought', -0.021394348543682485),\n",
       " ('waste', -0.02404274807115496),\n",
       " ('monitor', -0.024482100545891724),\n",
       " ('return', -0.026592778462247283),\n",
       " ('back', -0.027742697230661334),\n",
       " ('get', -0.028711552980192574),\n",
       " ('disappointed', -0.028978976142317068),\n",
       " ('even', -0.030051249236035804),\n",
       " ('work', -0.03306951529475273),\n",
       " ('money', -0.038982037286487116),\n",
       " ('product', -0.041511033392108904),\n",
       " ('would', -0.05386014844520314)]"
      ]
     },
     "execution_count": 112,
     "metadata": {},
     "output_type": "execute_result"
    }
   ],
   "source": [
    "word_coef"
   ]
  },
  {
   "cell_type": "code",
   "execution_count": null,
   "metadata": {},
   "outputs": [],
   "source": []
  }
 ],
 "metadata": {
  "kernelspec": {
   "display_name": "Python 3",
   "language": "python",
   "name": "python3"
  },
  "language_info": {
   "codemirror_mode": {
    "name": "ipython",
    "version": 3
   },
   "file_extension": ".py",
   "mimetype": "text/x-python",
   "name": "python",
   "nbconvert_exporter": "python",
   "pygments_lexer": "ipython3",
   "version": "3.7.3"
  }
 },
 "nbformat": 4,
 "nbformat_minor": 2
}
